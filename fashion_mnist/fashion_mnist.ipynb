{
 "cells": [
  {
   "cell_type": "markdown",
   "id": "12a15c7d",
   "metadata": {},
   "source": [
    "## 使用torch-directml使用fashion mnist数据集训练CNN\n",
    "\n",
    "FASHION MNIST则是对Pytorch官方文档中推荐的案例，通过该案例可以快速入门AI训练方法。这里我将把该模型的训练过程记录下来，作为Pytorch的Hello World。"
   ]
  },
  {
   "cell_type": "markdown",
   "id": "b4aa1026",
   "metadata": {},
   "source": [
    "### 1. 环境准备\n",
    "笔者的设备是一台搭载AMD AI Max+ 395/8060S核显的MINI PC，它的GPU算力大致相当于4060ti。由于它属于AMD的iGPU系列，所以并不支持CUDA生态。为了运行Pytorch代码，需要用到微软开发的torch-directml包。安装它的办法可以参考微软官方给出的说明文档，这里不再赘述。"
   ]
  },
  {
   "cell_type": "markdown",
   "id": "de619eab",
   "metadata": {},
   "source": [
    "### 2. 数据准备"
   ]
  },
  {
   "cell_type": "markdown",
   "id": "7709fa11",
   "metadata": {},
   "source": [
    "#### 2.1 下载训练集"
   ]
  },
  {
   "cell_type": "code",
   "execution_count": 1,
   "id": "5502c325",
   "metadata": {},
   "outputs": [
    {
     "name": "stdout",
     "output_type": "stream",
     "text": [
      "Downloading http://fashion-mnist.s3-website.eu-central-1.amazonaws.com/train-images-idx3-ubyte.gz\n",
      "Downloading http://fashion-mnist.s3-website.eu-central-1.amazonaws.com/train-images-idx3-ubyte.gz to ./data\\FashionMNIST\\raw\\train-images-idx3-ubyte.gz\n"
     ]
    },
    {
     "name": "stderr",
     "output_type": "stream",
     "text": [
      "100.0%\n"
     ]
    },
    {
     "name": "stdout",
     "output_type": "stream",
     "text": [
      "Extracting ./data\\FashionMNIST\\raw\\train-images-idx3-ubyte.gz to ./data\\FashionMNIST\\raw\n",
      "\n",
      "Downloading http://fashion-mnist.s3-website.eu-central-1.amazonaws.com/train-labels-idx1-ubyte.gz\n",
      "Downloading http://fashion-mnist.s3-website.eu-central-1.amazonaws.com/train-labels-idx1-ubyte.gz to ./data\\FashionMNIST\\raw\\train-labels-idx1-ubyte.gz\n"
     ]
    },
    {
     "name": "stderr",
     "output_type": "stream",
     "text": [
      "100.0%\n"
     ]
    },
    {
     "name": "stdout",
     "output_type": "stream",
     "text": [
      "Extracting ./data\\FashionMNIST\\raw\\train-labels-idx1-ubyte.gz to ./data\\FashionMNIST\\raw\n",
      "\n",
      "Downloading http://fashion-mnist.s3-website.eu-central-1.amazonaws.com/t10k-images-idx3-ubyte.gz\n",
      "Downloading http://fashion-mnist.s3-website.eu-central-1.amazonaws.com/t10k-images-idx3-ubyte.gz to ./data\\FashionMNIST\\raw\\t10k-images-idx3-ubyte.gz\n"
     ]
    },
    {
     "name": "stderr",
     "output_type": "stream",
     "text": [
      "100.0%\n"
     ]
    },
    {
     "name": "stdout",
     "output_type": "stream",
     "text": [
      "Extracting ./data\\FashionMNIST\\raw\\t10k-images-idx3-ubyte.gz to ./data\\FashionMNIST\\raw\n",
      "\n",
      "Downloading http://fashion-mnist.s3-website.eu-central-1.amazonaws.com/t10k-labels-idx1-ubyte.gz\n",
      "Downloading http://fashion-mnist.s3-website.eu-central-1.amazonaws.com/t10k-labels-idx1-ubyte.gz to ./data\\FashionMNIST\\raw\\t10k-labels-idx1-ubyte.gz\n"
     ]
    },
    {
     "name": "stderr",
     "output_type": "stream",
     "text": [
      "100.0%"
     ]
    },
    {
     "name": "stdout",
     "output_type": "stream",
     "text": [
      "Extracting ./data\\FashionMNIST\\raw\\t10k-labels-idx1-ubyte.gz to ./data\\FashionMNIST\\raw\n",
      "\n",
      "60000 10000\n",
      "2\n"
     ]
    },
    {
     "name": "stderr",
     "output_type": "stream",
     "text": [
      "\n"
     ]
    }
   ],
   "source": [
    "import torch\n",
    "import torchvision\n",
    "from torchvision import transforms\n",
    "\n",
    "trans = transforms.ToTensor()\n",
    "\n",
    "training_set = torchvision.datasets.FashionMNIST('./data', train=True, transform=trans, download=True)\n",
    "validation_set = torchvision.datasets.FashionMNIST('./data', train=False, transform=trans, download=True)\n",
    "\n",
    "print(len(training_set), len(validation_set))\n",
    "print(len(validation_set[0]))"
   ]
  },
  {
   "cell_type": "markdown",
   "id": "27ae711f",
   "metadata": {},
   "source": [
    "上面代码块的输出结果说明FASHION MNIST的训练集有60,000张图片，验证集有10,000图片。而每个图片用一个二元组表示，第一个元素表示图片的图像数据，第二个元素表示图片的标签。我们可以观察下这个数据长什么样子："
   ]
  },
  {
   "cell_type": "code",
   "execution_count": 2,
   "id": "466c15d4",
   "metadata": {},
   "outputs": [
    {
     "name": "stdout",
     "output_type": "stream",
     "text": [
      "torch.Size([1, 28, 28])\n",
      "<class 'int'>\n"
     ]
    }
   ],
   "source": [
    "print(validation_set[0][0].shape)\n",
    "print(type(validation_set[0][1]))"
   ]
  },
  {
   "cell_type": "markdown",
   "id": "e5fdd2c0",
   "metadata": {},
   "source": [
    "#### 2.2 数据集验证\n",
    "由上面的输出结果，很容易看出图片的格式是28x28的灰阶图片，而标签则是一个int类型的数字。根据这一信息，笔者可以定义函数`show_dataset_items`来验证数据集中的数据是否正确下载："
   ]
  },
  {
   "cell_type": "code",
   "execution_count": 3,
   "id": "44a8c90b",
   "metadata": {},
   "outputs": [],
   "source": [
    "from matplotlib import pyplot as plt\n",
    "\n",
    "TEXT_LABELS = ['t-shirt', 'trouser', 'pullover', 'dress', 'coat', 'sandal', 'shirt', 'sneaker', 'bag', 'ankle boot']\n",
    "\n",
    "def get_fashion_mnist_labels(labels):\n",
    "    return [TEXT_LABELS[int(i)] for i in labels]\n",
    "\n",
    "def show_dataset_items(imgs, num_rows, num_cols, titles=None, scale=1.5):\n",
    "    figsize = (num_cols * scale, num_rows * scale)\n",
    "    _, axes = plt.subplots(num_rows, num_cols, figsize=figsize)\n",
    "    axes = axes.flatten()\n",
    "    for i, (ax, img) in enumerate(zip(axes, imgs)):\n",
    "        if torch.is_tensor(img):\n",
    "            ax.imshow(img.numpy())\n",
    "        else:\n",
    "            ax.imshow(img)\n",
    "        ax.axes.get_xaxis().set_visible(False)\n",
    "        ax.axes.get_yaxis().set_visible(False)\n",
    "        if titles:\n",
    "            ax.set_title(titles[i])\n",
    "    plt.show()"
   ]
  },
  {
   "cell_type": "markdown",
   "id": "9e748a43",
   "metadata": {},
   "source": [
    "取数据集的前10项来测试一下`show_dataset_items`的正确性："
   ]
  },
  {
   "cell_type": "code",
   "execution_count": 4,
   "id": "cc9f8807",
   "metadata": {},
   "outputs": [
    {
     "data": {
      "image/png": "[encoded data removed]",
      "text/plain": [
       "<Figure size 750x300 with 10 Axes>"
      ]
     },
     "metadata": {},
     "output_type": "display_data"
    }
   ],
   "source": [
    "X, y = next(iter(torch.utils.data.DataLoader(training_set, batch_size=10)))\n",
    "show_dataset_items(X.reshape(10, 28, 28), 2, 5, get_fashion_mnist_labels(y))"
   ]
  },
  {
   "cell_type": "markdown",
   "id": "c3374ea5",
   "metadata": {},
   "source": [
    "如果正确下载数据集，则上面的验证代码将把数据集的前十项的图片跟标签都打印出来。"
   ]
  },
  {
   "cell_type": "markdown",
   "id": "1fdacaf3",
   "metadata": {},
   "source": [
    "### 3. 构建模型\n",
    "由于FASHION MNIST数据集的结构很简单，因此只需要构造简单的CNN模型就可以。模型包含三个卷积层、两个池化层和一个全连接层。"
   ]
  },
  {
   "cell_type": "code",
   "execution_count": 5,
   "id": "c9aaf849",
   "metadata": {},
   "outputs": [],
   "source": [
    "from torch import nn\n",
    "\n",
    "class CNN(nn.Module):\n",
    "    def __init__(self):\n",
    "        super().__init__()\n",
    "        self.layer1 = nn.Sequential(\n",
    "            nn.Conv2d(1, 16, kernel_size=(5, 5), padding=2),\n",
    "            nn.BatchNorm2d(16),\n",
    "            nn.ReLU()\n",
    "        )\n",
    "        self.pool1 = nn.MaxPool2d(2)\n",
    "        self.layer2 = nn.Sequential(\n",
    "            nn.Conv2d(16, 32, kernel_size=(3, 3)),\n",
    "            nn.BatchNorm2d(32),\n",
    "            nn.ReLU()\n",
    "        )\n",
    "        self.layer3 = nn.Sequential(\n",
    "            nn.Conv2d(32, 64, kernel_size=(3, 3)),\n",
    "            nn.BatchNorm2d(64),\n",
    "            nn.ReLU()\n",
    "        )\n",
    "        self.pool2 = nn.MaxPool2d(2)\n",
    "        self.fc = nn.Linear(5 * 5 * 64, 10)\n",
    "    \n",
    "    def forward(self, x):\n",
    "        out = self.pool1(self.layer1(x))\n",
    "        out = self.pool2(self.layer3(self.layer2(out)))\n",
    "        out = out.view(out.size(0), -1)\n",
    "        out = self.fc(out)\n",
    "        return out\n",
    "\n",
    "model = CNN()"
   ]
  },
  {
   "cell_type": "markdown",
   "id": "56d554f1",
   "metadata": {},
   "source": [
    "#### 4. 训练模型"
   ]
  },
  {
   "cell_type": "markdown",
   "id": "e209752d",
   "metadata": {},
   "source": [
    "首先定义模型超参数："
   ]
  },
  {
   "cell_type": "code",
   "execution_count": 6,
   "id": "11f46ea6",
   "metadata": {},
   "outputs": [
    {
     "name": "stdout",
     "output_type": "stream",
     "text": [
      "choose device: privateuseone:0\n"
     ]
    }
   ],
   "source": [
    "import torch_directml\n",
    "\n",
    "device = torch_directml.device()\n",
    "model.to(device)\n",
    "model.train()\n",
    "\n",
    "print('choose device:', device)\n",
    "\n",
    "LR = 0.01\n",
    "EPOCHS = 50\n",
    "BATCH_SIZE = 256\n",
    "\n",
    "\n",
    "criterion = nn.CrossEntropyLoss().to(device)\n",
    "optimizer = torch.optim.Adam(model.parameters(), lr=LR)"
   ]
  },
  {
   "cell_type": "markdown",
   "id": "03fb1cbf",
   "metadata": {},
   "source": [
    "然后加载数据集："
   ]
  },
  {
   "cell_type": "code",
   "execution_count": 7,
   "id": "3de01769",
   "metadata": {},
   "outputs": [],
   "source": [
    "train_loader = torch.utils.data.DataLoader(training_set, batch_size=BATCH_SIZE, shuffle=True)\n",
    "test_loader = torch.utils.data.DataLoader(validation_set, batch_size=BATCH_SIZE, shuffle=True)"
   ]
  },
  {
   "cell_type": "markdown",
   "id": "a5529de0",
   "metadata": {},
   "source": [
    "开始训练："
   ]
  },
  {
   "cell_type": "code",
   "execution_count": 8,
   "id": "c7f5c812",
   "metadata": {},
   "outputs": [
    {
     "name": "stderr",
     "output_type": "stream",
     "text": [
      "c:\\Users\\yangy\\miniconda3\\envs\\pytdml\\Lib\\site-packages\\torch\\optim\\adam.py:534: UserWarning: The operator 'aten::lerp.Scalar_out' is not currently supported on the DML backend and will fall back to run on the CPU. This may have performance implications. (Triggered internally at C:\\__w\\1\\s\\pytorch-directml-plugin\\torch_directml\\csrc\\dml\\dml_cpu_fallback.cpp:17.)\n",
      "  torch._foreach_lerp_(device_exp_avgs, device_grads, 1 - beta1)\n"
     ]
    },
    {
     "name": "stdout",
     "output_type": "stream",
     "text": [
      "Epoch : 1/50, Iter : 100/234, Loss : 0.4737\n",
      "Epoch : 1/50, Iter : 200/234, Loss : 0.3858\n",
      "Epoch : 2/50, Iter : 100/234, Loss : 0.3093\n",
      "Epoch : 2/50, Iter : 200/234, Loss : 0.2652\n",
      "Epoch : 3/50, Iter : 100/234, Loss : 0.2140\n",
      "Epoch : 3/50, Iter : 200/234, Loss : 0.2648\n",
      "Epoch : 4/50, Iter : 100/234, Loss : 0.2187\n",
      "Epoch : 4/50, Iter : 200/234, Loss : 0.3296\n",
      "Epoch : 5/50, Iter : 100/234, Loss : 0.3172\n",
      "Epoch : 5/50, Iter : 200/234, Loss : 0.2290\n",
      "Epoch : 6/50, Iter : 100/234, Loss : 0.1440\n",
      "Epoch : 6/50, Iter : 200/234, Loss : 0.2348\n",
      "Epoch : 7/50, Iter : 100/234, Loss : 0.2192\n",
      "Epoch : 7/50, Iter : 200/234, Loss : 0.2445\n",
      "Epoch : 8/50, Iter : 100/234, Loss : 0.2178\n",
      "Epoch : 8/50, Iter : 200/234, Loss : 0.1343\n",
      "Epoch : 9/50, Iter : 100/234, Loss : 0.1663\n",
      "Epoch : 9/50, Iter : 200/234, Loss : 0.2127\n",
      "Epoch : 10/50, Iter : 100/234, Loss : 0.0916\n",
      "Epoch : 10/50, Iter : 200/234, Loss : 0.1936\n",
      "Epoch : 11/50, Iter : 100/234, Loss : 0.1971\n",
      "Epoch : 11/50, Iter : 200/234, Loss : 0.1752\n",
      "Epoch : 12/50, Iter : 100/234, Loss : 0.1467\n",
      "Epoch : 12/50, Iter : 200/234, Loss : 0.1006\n",
      "Epoch : 13/50, Iter : 100/234, Loss : 0.1853\n",
      "Epoch : 13/50, Iter : 200/234, Loss : 0.1221\n",
      "Epoch : 14/50, Iter : 100/234, Loss : 0.1203\n",
      "Epoch : 14/50, Iter : 200/234, Loss : 0.1433\n",
      "Epoch : 15/50, Iter : 100/234, Loss : 0.1053\n",
      "Epoch : 15/50, Iter : 200/234, Loss : 0.0717\n",
      "Epoch : 16/50, Iter : 100/234, Loss : 0.0837\n",
      "Epoch : 16/50, Iter : 200/234, Loss : 0.1634\n",
      "Epoch : 17/50, Iter : 100/234, Loss : 0.1702\n",
      "Epoch : 17/50, Iter : 200/234, Loss : 0.1018\n",
      "Epoch : 18/50, Iter : 100/234, Loss : 0.0951\n",
      "Epoch : 18/50, Iter : 200/234, Loss : 0.1149\n",
      "Epoch : 19/50, Iter : 100/234, Loss : 0.0855\n",
      "Epoch : 19/50, Iter : 200/234, Loss : 0.1183\n",
      "Epoch : 20/50, Iter : 100/234, Loss : 0.0703\n",
      "Epoch : 20/50, Iter : 200/234, Loss : 0.1197\n",
      "Epoch : 21/50, Iter : 100/234, Loss : 0.0690\n",
      "Epoch : 21/50, Iter : 200/234, Loss : 0.0996\n",
      "Epoch : 22/50, Iter : 100/234, Loss : 0.0478\n",
      "Epoch : 22/50, Iter : 200/234, Loss : 0.0771\n",
      "Epoch : 23/50, Iter : 100/234, Loss : 0.1007\n",
      "Epoch : 23/50, Iter : 200/234, Loss : 0.0781\n",
      "Epoch : 24/50, Iter : 100/234, Loss : 0.0826\n",
      "Epoch : 24/50, Iter : 200/234, Loss : 0.0731\n",
      "Epoch : 25/50, Iter : 100/234, Loss : 0.0635\n",
      "Epoch : 25/50, Iter : 200/234, Loss : 0.0611\n",
      "Epoch : 26/50, Iter : 100/234, Loss : 0.0765\n",
      "Epoch : 26/50, Iter : 200/234, Loss : 0.0839\n",
      "Epoch : 27/50, Iter : 100/234, Loss : 0.0419\n",
      "Epoch : 27/50, Iter : 200/234, Loss : 0.0760\n",
      "Epoch : 28/50, Iter : 100/234, Loss : 0.0332\n",
      "Epoch : 28/50, Iter : 200/234, Loss : 0.0693\n",
      "Epoch : 29/50, Iter : 100/234, Loss : 0.0594\n",
      "Epoch : 29/50, Iter : 200/234, Loss : 0.0922\n",
      "Epoch : 30/50, Iter : 100/234, Loss : 0.0647\n",
      "Epoch : 30/50, Iter : 200/234, Loss : 0.1094\n",
      "Epoch : 31/50, Iter : 100/234, Loss : 0.0710\n",
      "Epoch : 31/50, Iter : 200/234, Loss : 0.0423\n",
      "Epoch : 32/50, Iter : 100/234, Loss : 0.0564\n",
      "Epoch : 32/50, Iter : 200/234, Loss : 0.0919\n",
      "Epoch : 33/50, Iter : 100/234, Loss : 0.0721\n",
      "Epoch : 33/50, Iter : 200/234, Loss : 0.0812\n",
      "Epoch : 34/50, Iter : 100/234, Loss : 0.0245\n",
      "Epoch : 34/50, Iter : 200/234, Loss : 0.1016\n",
      "Epoch : 35/50, Iter : 100/234, Loss : 0.0755\n",
      "Epoch : 35/50, Iter : 200/234, Loss : 0.0640\n",
      "Epoch : 36/50, Iter : 100/234, Loss : 0.0183\n",
      "Epoch : 36/50, Iter : 200/234, Loss : 0.0494\n",
      "Epoch : 37/50, Iter : 100/234, Loss : 0.0496\n",
      "Epoch : 37/50, Iter : 200/234, Loss : 0.0272\n",
      "Epoch : 38/50, Iter : 100/234, Loss : 0.0726\n",
      "Epoch : 38/50, Iter : 200/234, Loss : 0.0522\n",
      "Epoch : 39/50, Iter : 100/234, Loss : 0.0535\n",
      "Epoch : 39/50, Iter : 200/234, Loss : 0.0726\n",
      "Epoch : 40/50, Iter : 100/234, Loss : 0.0464\n",
      "Epoch : 40/50, Iter : 200/234, Loss : 0.0378\n",
      "Epoch : 41/50, Iter : 100/234, Loss : 0.0301\n",
      "Epoch : 41/50, Iter : 200/234, Loss : 0.0470\n",
      "Epoch : 42/50, Iter : 100/234, Loss : 0.0088\n",
      "Epoch : 42/50, Iter : 200/234, Loss : 0.0658\n",
      "Epoch : 43/50, Iter : 100/234, Loss : 0.0302\n",
      "Epoch : 43/50, Iter : 200/234, Loss : 0.0187\n",
      "Epoch : 44/50, Iter : 100/234, Loss : 0.0278\n",
      "Epoch : 44/50, Iter : 200/234, Loss : 0.0263\n",
      "Epoch : 45/50, Iter : 100/234, Loss : 0.0366\n",
      "Epoch : 45/50, Iter : 200/234, Loss : 0.0102\n",
      "Epoch : 46/50, Iter : 100/234, Loss : 0.0279\n",
      "Epoch : 46/50, Iter : 200/234, Loss : 0.0397\n",
      "Epoch : 47/50, Iter : 100/234, Loss : 0.0060\n",
      "Epoch : 47/50, Iter : 200/234, Loss : 0.0401\n",
      "Epoch : 48/50, Iter : 100/234, Loss : 0.0240\n",
      "Epoch : 48/50, Iter : 200/234, Loss : 0.0413\n",
      "Epoch : 49/50, Iter : 100/234, Loss : 0.0137\n",
      "Epoch : 49/50, Iter : 200/234, Loss : 0.0088\n",
      "Epoch : 50/50, Iter : 100/234, Loss : 0.0395\n",
      "Epoch : 50/50, Iter : 200/234, Loss : 0.0197\n"
     ]
    }
   ],
   "source": [
    "losses = []\n",
    "\n",
    "for epoch in range(EPOCHS):\n",
    "    for i, (images, lables) in enumerate(train_loader):\n",
    "        images = images.to(device)\n",
    "        lables = lables.to(device)\n",
    "        optimizer.zero_grad()\n",
    "        outputs = model(images)\n",
    "        loss = criterion(outputs, lables)\n",
    "        loss.backward()\n",
    "        optimizer.step()\n",
    "        losses.append(loss.cpu().data.item())\n",
    "        if (i + 1) % 100 == 0:\n",
    "            print('Epoch : %d/%d, Iter : %d/%d, Loss : %.4f' % (\n",
    "                epoch + 1, EPOCHS,\n",
    "                i + 1, len(training_set) // BATCH_SIZE,\n",
    "                loss.data.item()\n",
    "            ))"
   ]
  },
  {
   "cell_type": "markdown",
   "id": "93c305aa",
   "metadata": {},
   "source": [
    "简单绘制一下loss曲线，可以看到训练结果是收敛的："
   ]
  },
  {
   "cell_type": "code",
   "execution_count": 9,
   "id": "edc5f754",
   "metadata": {},
   "outputs": [
    {
     "data": {
      "image/png": "[encoded data removed]",
      "text/plain": [
       "<Figure size 640x480 with 1 Axes>"
      ]
     },
     "metadata": {},
     "output_type": "display_data"
    }
   ],
   "source": [
    "from matplotlib import pyplot as plt\n",
    "\n",
    "# 设置字体为 SimHei，确保中文显示正常\n",
    "plt.rcParams['font.sans-serif'] = ['SimHei']  # 或其他中文字体，如 'Microsoft YaHei'\n",
    "plt.rcParams['axes.unicode_minus'] = False  # 解决负号显示为方块的问题\n",
    "\n",
    "x = range(len(losses))\n",
    "y = losses\n",
    "\n",
    "plt.plot(x, y, color='b')\n",
    "plt.title(\"训练loss曲线\")\n",
    "plt.xlabel(\"step\")\n",
    "plt.ylabel(\"loss\")\n",
    "plt.show()"
   ]
  },
  {
   "cell_type": "markdown",
   "id": "a1578387",
   "metadata": {},
   "source": [
    "下面笔者将对模型进行测试："
   ]
  },
  {
   "cell_type": "code",
   "execution_count": 10,
   "id": "4db13725",
   "metadata": {},
   "outputs": [
    {
     "name": "stdout",
     "output_type": "stream",
     "text": [
      "CNN 测试集准确率：90.08 %\n"
     ]
    }
   ],
   "source": [
    "model.eval()\n",
    "correct = 0\n",
    "total = 0\n",
    "for images, labels in test_loader:\n",
    "    images = images.float().to(device)\n",
    "    outputs = model(images).cpu()\n",
    "    _, predicted = torch.max(outputs.data, 1)\n",
    "    total += labels.size(0)\n",
    "    correct += (predicted == labels).sum()\n",
    "\n",
    "print('CNN 测试集准确率：%.2f %%' % (100 * correct / total))"
   ]
  },
  {
   "cell_type": "markdown",
   "id": "a32f3c38",
   "metadata": {},
   "source": [
    "经过测试，笔者对训练结果满意。接下来就是把训练好的模型保存下来："
   ]
  },
  {
   "cell_type": "code",
   "execution_count": 12,
   "id": "8955308c",
   "metadata": {},
   "outputs": [],
   "source": [
    "torch.save(model.state_dict(), 'model/model_weights.pth')"
   ]
  }
 ],
 "metadata": {
  "kernelspec": {
   "display_name": "pytdml2",
   "language": "python",
   "name": "python3"
  },
  "language_info": {
   "codemirror_mode": {
    "name": "ipython",
    "version": 3
   },
   "file_extension": ".py",
   "mimetype": "text/x-python",
   "name": "python",
   "nbconvert_exporter": "python",
   "pygments_lexer": "ipython3",
   "version": "3.10.16"
  }
 },
 "nbformat": 4,
 "nbformat_minor": 5
}
